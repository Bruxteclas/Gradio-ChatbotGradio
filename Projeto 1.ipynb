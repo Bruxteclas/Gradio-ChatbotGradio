{
 "cells": [
  {
   "attachments": {},
   "cell_type": "markdown",
   "id": "be9b97a4-2abc-4eed-a672-0663c11e4373",
   "metadata": {},
   "source": [
    "### 📌 Visão Geral do Projeto  \n",
    "\n",
    "O **Gradio** é uma biblioteca Python que facilita a criação de interfaces de usuário para modelos de Machine Learning, processamento de texto, imagens e muito mais. Com poucas linhas de código, podemos desenvolver uma UI interativa e compartilhá-la via link sem necessidade de um servidor complexo.  \n",
    "\n",
    "Neste projeto, vamos construir uma aplicação simples que usa **Gradio** para criar uma interface interativa. A aplicação permitirá que o usuário envie um texto e receba uma resposta processada. Podemos integrar isso a um modelo de NLP, como um chatbot usando **OpenAI GPT** ou até mesmo aplicar transformações básicas ao texto, como converter para maiúsculas.  \n",
    "\n",
    "---\n",
    "\n",
    "### 🔹 **Objetivo do Projeto**  \n",
    "\n",
    "Criar uma interface interativa usando **Gradio** para processar entrada de texto. O usuário insere um texto e recebe uma resposta processada, podendo ser um simples transformador de texto ou um chatbot.  \n",
    "\n",
    "**O que aprenderemos?**  \n",
    "✅ Como instalar e configurar o Gradio.  \n",
    "✅ Como criar uma interface básica com entrada e saída de texto.  \n",
    "✅ Como integrar Gradio com uma função de processamento.  \n",
    "✅ Como compartilhar a aplicação na web facilmente.  "
   ]
  },
  {
   "cell_type": "markdown",
   "id": "c0bad55c-6771-47c6-b54e-3566c541c31c",
   "metadata": {},
   "source": [
    "# **Importando as bibliotecas**"
   ]
  },
  {
   "cell_type": "code",
   "execution_count": 2,
   "id": "ce7b847c-b656-440e-a823-82d11c1445bf",
   "metadata": {},
   "outputs": [],
   "source": [
    "# Biblioteca para interagir com o sistema operacional e acessar variáveis de ambiente\n",
    "import os\n",
    "\n",
    "# Biblioteca para enviar requisições HTTP (como GET e POST) e obter dados da web\n",
    "import requests\n",
    "\n",
    "# BeautifulSoup é usada para fazer o parsing e extração de dados de HTML (ideal para scraping)\n",
    "from bs4 import BeautifulSoup\n",
    "\n",
    "# Tipagem para listas, usada para garantir que variáveis sejam listas de tipos específicos\n",
    "from typing import List\n",
    "\n",
    "# Biblioteca para carregar variáveis de ambiente a partir de arquivos .env\n",
    "from dotenv import load_dotenv\n",
    "\n",
    "# Biblioteca para interação com a API da OpenAI, incluindo geração de textos com GPT\n",
    "from openai import OpenAI\n",
    "\n",
    "# Gradio é usado para criar interfaces de usuário interativas de forma simples e rápida\n",
    "import gradio as gr\n"
   ]
  },
  {
   "cell_type": "code",
   "execution_count": 3,
   "id": "cadcdca9-a7d2-4e02-88a0-d2b939b10fd6",
   "metadata": {},
   "outputs": [
    {
     "name": "stdout",
     "output_type": "stream",
     "text": [
      "A chave de API OpenAI existe e começa sk-proj-\n"
     ]
    }
   ],
   "source": [
    "# Carrega as variáveis de ambiente a partir do arquivo .env\n",
    "# O parâmetro 'override=True' permite sobrescrever variáveis já carregadas\n",
    "load_dotenv(override=True)\n",
    "\n",
    "# Obtém a chave de API do OpenAI da variável de ambiente\n",
    "openai_api_key = os.getenv('OPENAI_API_KEY')\n",
    "\n",
    "# Verifica se a chave de API foi carregada corretamente\n",
    "if openai_api_key:\n",
    "    # Se a chave de API existir, imprime os primeiros 8 caracteres da chave\n",
    "    print(f\"A chave de API OpenAI existe e começa {openai_api_key[:8]}\")\n",
    "else:\n",
    "    # Caso contrário, informa que a chave de API não foi definida\n",
    "    print(\"Chave de API OpenAI não definida\")\n"
   ]
  },
  {
   "cell_type": "code",
   "execution_count": 4,
   "id": "a7d34a7a-49da-4561-bec4-1994be62c6fa",
   "metadata": {},
   "outputs": [],
   "source": [
    "# Conectando a API da OpenAI, \n",
    "\n",
    "openai = OpenAI()"
   ]
  },
  {
   "cell_type": "code",
   "execution_count": 5,
   "id": "bc70f737-d935-41bc-9490-a6e35405f8ff",
   "metadata": {},
   "outputs": [],
   "source": [
    "system_message = \"Você é um assistente útil\""
   ]
  },
  {
   "cell_type": "code",
   "execution_count": 6,
   "id": "d81ba382-3aa7-47ee-a1af-e9930aa1b6d2",
   "metadata": {},
   "outputs": [],
   "source": [
    "# Função que interage com a API do GPT da OpenAI para gerar respostas baseadas em um prompt de usuário\n",
    "def message_gpt(prompt):\n",
    "    # A lista 'messages' contém as mensagens de contexto e do usuário para a interação com o modelo GPT\n",
    "    messages = [\n",
    "        {\"role\": \"system\", \"content\": system_message},  # Mensagem do sistema, define o comportamento do modelo\n",
    "        {\"role\": \"user\", \"content\": prompt}  # Mensagem do usuário, o prompt que será respondido pelo modelo\n",
    "    ]\n",
    "    \n",
    "    # Envia a requisição para a API da OpenAI, pedindo uma completão com o modelo especificado e as mensagens fornecidas\n",
    "    completion = openai.chat.completions.create(\n",
    "        model='gpt-4o-mini',  # Modelo GPT-4 que será utilizado para gerar a resposta\n",
    "        messages=messages,  # Lista de mensagens fornecidas para o modelo\n",
    "    )\n",
    "    \n",
    "    # Retorna o conteúdo da resposta gerada pelo modelo GPT, extraindo o texto da primeira opção retornada\n",
    "    return completion.choices[0].message.content\n"
   ]
  },
  {
   "cell_type": "markdown",
   "id": "9625a107-6fcc-4486-a2fe-f64b5e2f8899",
   "metadata": {},
   "source": [
    "# Hora da interface do usuário"
   ]
  },
  {
   "cell_type": "code",
   "execution_count": 7,
   "id": "b3215d52-f003-4068-bf04-cc8bf15de299",
   "metadata": {},
   "outputs": [],
   "source": [
    "# Função simples que converte o texto para letras maiúsculas\n",
    "def shout(text):\n",
    "    # Exibe uma mensagem no console mostrando o texto que foi passado para a função\n",
    "    print(f\"Shout foi chamado com a entrada {text}\") \n",
    "    \n",
    "    # Retorna o texto convertido para letras maiúsculas\n",
    "    return text.upper()\n"
   ]
  },
  {
   "cell_type": "code",
   "execution_count": 8,
   "id": "831de184-e987-489d-b4a3-cc94296433a5",
   "metadata": {},
   "outputs": [
    {
     "name": "stdout",
     "output_type": "stream",
     "text": [
      "* Running on local URL:  http://127.0.0.1:7863\n",
      "\n",
      "To create a public link, set `share=True` in `launch()`.\n"
     ]
    },
    {
     "data": {
      "text/html": [
       "<div><iframe src=\"http://127.0.0.1:7863/\" width=\"100%\" height=\"500\" allow=\"autoplay; camera; microphone; clipboard-read; clipboard-write;\" frameborder=\"0\" allowfullscreen></iframe></div>"
      ],
      "text/plain": [
       "<IPython.core.display.HTML object>"
      ]
     },
     "metadata": {},
     "output_type": "display_data"
    },
    {
     "data": {
      "text/plain": []
     },
     "execution_count": 8,
     "metadata": {},
     "output_type": "execute_result"
    }
   ],
   "source": [
    "# A simplicidade do gradio. Isso pode aparecer no \"modo claro\" \n",
    "gr.Interface(fn=shout, inputs=\"textbox\", outputs=\"textbox\").launch()"
   ]
  },
  {
   "cell_type": "code",
   "execution_count": 9,
   "id": "132b0226-fa68-4704-a060-5c45bddc6252",
   "metadata": {},
   "outputs": [
    {
     "name": "stdout",
     "output_type": "stream",
     "text": [
      "* Running on local URL:  http://127.0.0.1:7864\n",
      "* Running on public URL: https://b5a70640ba34293fab.gradio.live\n",
      "\n",
      "This share link expires in 72 hours. For free permanent hosting and GPU upgrades, run `gradio deploy` from the terminal in the working directory to deploy to Hugging Face Spaces (https://huggingface.co/spaces)\n"
     ]
    },
    {
     "data": {
      "text/html": [
       "<div><iframe src=\"https://b5a70640ba34293fab.gradio.live\" width=\"100%\" height=\"500\" allow=\"autoplay; camera; microphone; clipboard-read; clipboard-write;\" frameborder=\"0\" allowfullscreen></iframe></div>"
      ],
      "text/plain": [
       "<IPython.core.display.HTML object>"
      ]
     },
     "metadata": {},
     "output_type": "display_data"
    },
    {
     "data": {
      "text/plain": []
     },
     "execution_count": 9,
     "metadata": {},
     "output_type": "execute_result"
    }
   ],
   "source": [
    "# Adicionar share=True significa que ele pode ser acessado publicamente\n",
    "# Uma hospedagem mais permanente está disponível usando uma plataforma chamada Spaces from HuggingFace\n",
    "# NOTA: Alguns softwares antivírus e firewalls corporativos podem não gostar de você usar share=True. \n",
    "gr.Interface(fn=shout, inputs=\"textbox\", outputs=\"textbox\", flagging_mode=\"never\").launch(share=True)"
   ]
  },
  {
   "cell_type": "code",
   "execution_count": 10,
   "id": "316a676e-af77-4f52-8f46-52dbae433231",
   "metadata": {},
   "outputs": [
    {
     "name": "stdout",
     "output_type": "stream",
     "text": [
      "* Running on local URL:  http://127.0.0.1:7865\n",
      "\n",
      "To create a public link, set `share=True` in `launch()`.\n"
     ]
    },
    {
     "data": {
      "text/html": [
       "<div><iframe src=\"http://127.0.0.1:7865/\" width=\"100%\" height=\"500\" allow=\"autoplay; camera; microphone; clipboard-read; clipboard-write;\" frameborder=\"0\" allowfullscreen></iframe></div>"
      ],
      "text/plain": [
       "<IPython.core.display.HTML object>"
      ]
     },
     "metadata": {},
     "output_type": "display_data"
    },
    {
     "data": {
      "text/plain": []
     },
     "execution_count": 10,
     "metadata": {},
     "output_type": "execute_result"
    }
   ],
   "source": [
    "# Adicionar inbrowser=True abre uma nova janela do navegador automaticamente\n",
    "\n",
    "gr.Interface(fn=shout, inputs=\"textbox\", outputs=\"textbox\", flagging_mode=\"never\").launch(inbrowser=True)"
   ]
  },
  {
   "cell_type": "markdown",
   "id": "24fe807e-2a6a-4857-8463-b1adfacd8381",
   "metadata": {},
   "source": [
    "## Forçando o modo escuro\n",
    "\n",
    "Gradio aparece no modo claro ou escuro dependendo das configurações do navegador e do computador. Existe uma maneira de forçar o gradio a aparecer no modo escuro, mas o Gradio não recomenda isso, pois deve ser uma preferência do usuário (principalmente por motivos de acessibilidade). Mas se você deseja forçar o modo escuro em suas telas, veja abaixo como fazer isso.\n"
   ]
  },
  {
   "cell_type": "code",
   "execution_count": 11,
   "id": "87b399bb-672c-4aa6-83e6-20f9b386fa06",
   "metadata": {
    "scrolled": true
   },
   "outputs": [
    {
     "name": "stdout",
     "output_type": "stream",
     "text": [
      "* Running on local URL:  http://127.0.0.1:7866\n",
      "\n",
      "To create a public link, set `share=True` in `launch()`.\n"
     ]
    },
    {
     "data": {
      "text/html": [
       "<div><iframe src=\"http://127.0.0.1:7866/\" width=\"100%\" height=\"500\" allow=\"autoplay; camera; microphone; clipboard-read; clipboard-write;\" frameborder=\"0\" allowfullscreen></iframe></div>"
      ],
      "text/plain": [
       "<IPython.core.display.HTML object>"
      ]
     },
     "metadata": {},
     "output_type": "display_data"
    },
    {
     "data": {
      "text/plain": []
     },
     "execution_count": 11,
     "metadata": {},
     "output_type": "execute_result"
    }
   ],
   "source": [
    "# Defina esta variável e então passe js=force_dark_mode ao criar a Interface\n",
    "\n",
    "force_dark_mode = \"\"\"\n",
    "function refresh() {\n",
    "    const url = new URL(window.location);\n",
    "    if (url.searchParams.get('__theme') !== 'dark') {\n",
    "        url.searchParams.set('__theme', 'dark');\n",
    "        window.location.href = url.href;\n",
    "    }\n",
    "}\n",
    "\"\"\"\n",
    "gr.Interface(fn=shout, inputs=\"textbox\", outputs=\"textbox\", flagging_mode=\"never\", js=force_dark_mode).launch()"
   ]
  },
  {
   "cell_type": "markdown",
   "id": "ecf57283-bba7-4585-82f9-569c81157156",
   "metadata": {},
   "source": [
    "# Integrando o Gradio ao GPT"
   ]
  },
  {
   "cell_type": "code",
   "execution_count": 13,
   "id": "25510f17-d664-4cd6-a54a-a5a7d3d4cc87",
   "metadata": {},
   "outputs": [],
   "source": [
    "# Função que interage com o modelo GPT de forma contínua (streaming)\n",
    "def stream_gpt(prompt):\n",
    "    # Define a lista de mensagens, incluindo a mensagem do sistema e a entrada do usuário\n",
    "    messages = [\n",
    "        {\"role\": \"system\", \"content\": system_message},\n",
    "        {\"role\": \"user\", \"content\": prompt}\n",
    "    ]\n",
    "\n",
    "    # Envia a solicitação para o modelo GPT-4o-mini, ativando o modo de streaming\n",
    "    stream = openai.chat.completions.create(\n",
    "        model='gpt-4o-mini',\n",
    "        messages=messages,\n",
    "        stream=True  # Habilita o streaming de respostas\n",
    "    )\n",
    "\n",
    "    result = \"\"  # Inicializa a variável para armazenar a resposta gerada\n",
    "\n",
    "    # Itera sobre os blocos de resposta recebidos do modelo\n",
    "    for chunk in stream:\n",
    "        # Adiciona cada novo trecho da resposta ao resultado final\n",
    "        result += chunk.choices[0].delta.content or \"\"\n",
    "\n",
    "        # Utiliza 'yield' para transmitir os dados progressivamente\n",
    "        yield result\n"
   ]
  },
  {
   "cell_type": "code",
   "execution_count": 15,
   "id": "1cbc0ff3-2086-4b99-8585-b7e93a23026b",
   "metadata": {},
   "outputs": [
    {
     "name": "stdout",
     "output_type": "stream",
     "text": [
      "* Running on local URL:  http://127.0.0.1:7869\n",
      "\n",
      "To create a public link, set `share=True` in `launch()`.\n"
     ]
    },
    {
     "data": {
      "text/html": [
       "<div><iframe src=\"http://127.0.0.1:7869/\" width=\"100%\" height=\"500\" allow=\"autoplay; camera; microphone; clipboard-read; clipboard-write;\" frameborder=\"0\" allowfullscreen></iframe></div>"
      ],
      "text/plain": [
       "<IPython.core.display.HTML object>"
      ]
     },
     "metadata": {},
     "output_type": "display_data"
    },
    {
     "data": {
      "text/plain": []
     },
     "execution_count": 15,
     "metadata": {},
     "output_type": "execute_result"
    }
   ],
   "source": [
    "# Criando a interface do usuário com Gradio\n",
    "view = gr.Interface(\n",
    "    fn=stream_gpt,  # Define a função que processa a entrada do usuário e retorna a resposta do modelo GPT\n",
    "    inputs=[gr.Textbox(label=\"Your message:\")],  # Campo de entrada de texto para o usuário digitar sua mensagem\n",
    "    outputs=[gr.Markdown(label=\"Response:\")],  # Saída formatada como Markdown para exibir a resposta do GPT\n",
    "    flagging_mode=\"never\"  # Desativa a opção de reportar respostas como inapropriadas\n",
    ")\n",
    "\n",
    "# Inicializa a interface web e a disponibiliza para uso\n",
    "view.launch()\n"
   ]
  },
  {
   "cell_type": "code",
   "execution_count": null,
   "id": "bd004b9c-cf53-47f8-be4b-e8176e4e549e",
   "metadata": {},
   "outputs": [],
   "source": []
  }
 ],
 "metadata": {
  "kernelspec": {
   "display_name": "Python 3 (ipykernel)",
   "language": "python",
   "name": "python3"
  },
  "language_info": {
   "codemirror_mode": {
    "name": "ipython",
    "version": 3
   },
   "file_extension": ".py",
   "mimetype": "text/x-python",
   "name": "python",
   "nbconvert_exporter": "python",
   "pygments_lexer": "ipython3",
   "version": "3.11.11"
  }
 },
 "nbformat": 4,
 "nbformat_minor": 5
}
